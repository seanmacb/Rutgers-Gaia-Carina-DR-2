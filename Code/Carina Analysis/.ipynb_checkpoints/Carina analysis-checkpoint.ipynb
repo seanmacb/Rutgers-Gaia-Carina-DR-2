{
 "cells": [
  {
   "cell_type": "markdown",
   "metadata": {},
   "source": [
    "# Importing modules and defining functions"
   ]
  },
  {
   "cell_type": "code",
   "execution_count": 1,
   "metadata": {},
   "outputs": [],
   "source": [
    "import pandas as pd\n",
    "import matplotlib.pyplot as plt\n",
    "import operator\n",
    "import numpy as np\n",
    "import seaborn as sns\n",
    "from matplotlib import cm\n",
    "\n",
    "bprp_bounds=[0.453,0.36,0.82,0.97,1.59,1.86,2.386,1.5,1.226,1.14,0.453]\n",
    "gmag_bounds=[21,20.182,19.936,19.172,17.059,16.381,16.867,17.936,19.218,21,21]\n",
    "\n",
    "gaiateamra=100.4029166667 #RA from Gaia DR2 Paper\n",
    "gaiateamdec=-50.96611 #Dec from Gaia DR2 Paper"
   ]
  },
  {
   "cell_type": "code",
   "execution_count": 2,
   "metadata": {},
   "outputs": [],
   "source": [
    "def weightedMean(x,xerr): #Takes lists of a value and a values uncertainty, returns 2 variables: the weighted mean, and the mean's uncertainty\n",
    "    topfrac=0\n",
    "    botfrac=0\n",
    "    for i in range(len(x)):\n",
    "        topfrac+=x[i]/(xerr[i]**2)\n",
    "        botfrac+=1/(xerr[i]**2)\n",
    "    mean=topfrac/botfrac\n",
    "    mean_unc=np.sqrt(1/botfrac)\n",
    "    return mean,mean_unc"
   ]
  },
  {
   "cell_type": "code",
   "execution_count": 3,
   "metadata": {},
   "outputs": [],
   "source": [
    "def chiSquare(x,xerr,xmean): #Takes 2 lists and one value, the first list of values, the second list of the values uncertainties, and the third value is the mean value of the data set. Returns the chi squared value of that data set\n",
    "    xchi=0\n",
    "    for i in range(len(x)):\n",
    "        xchi+=((x[i]-xmean)/xerr[i])**2\n",
    "    return xchi"
   ]
  },
  {
   "cell_type": "markdown",
   "metadata": {},
   "source": [
    "# DATA CRUNCHING "
   ]
  },
  {
   "cell_type": "markdown",
   "metadata": {},
   "source": [
    "## Gaia Raw"
   ]
  },
  {
   "cell_type": "code",
   "execution_count": 4,
   "metadata": {},
   "outputs": [],
   "source": [
    "# Importing from the data file\n",
    "\n",
    "#print(\"Starting . . .\")\n",
    "\n",
    "###\n",
    "carinasurvey=\"MunozRadius.csv\" #The gaia data file with the survey of carina\n",
    "\n",
    "# quartertimesrhalflight.csv\n",
    "# half_times_rhalflight.csv\n",
    "# 1timesrhalflight.csv\n",
    "# 2timesrhalflight.csv\n",
    "# 3timesrhalflight.csv\n",
    "# 1degreeradius.csv\n",
    "# 80percentdegree.csv\n",
    "# OnePointSixDegreeRadius.csv\n",
    "# 2degreeradius.csv\n",
    "# MunozRadius.csv - 3.33 deg radiu\n",
    "# CarinaBox.csv - 3.33 degree box\n",
    "\n",
    "#SELECT TOP 50000000 ra,ra_error,dec,dec_error,pmra,pmra_error,pmdec,pmdec_error,phot_g_mean_mag,phot_bp_mean_mag,phot_rp_mean_mag,bp_rp,bp_g,g_rp,radial_velocity,radial_velocity_error FROM gaiadr2.gaia_source  WHERE CONTAINS(POINT('ICRS',gaiadr2.gaia_source.ra,gaiadr2.gaia_source.dec),CIRCLE('ICRS',100.40291666666667,-50.96611111111111,2))=1    AND  (phot_g_mean_mag>=15 AND phot_rp_mean_mag>=15 AND phot_bp_mean_mag>=15 AND parallax<=2*parallax_error)\n",
    "\n",
    "###\n",
    "gaiateamra=100.4029166667 # RA from Gaia DR2 Paper\n",
    "gaiateamdec=-50.96611 # Dec from Gaia DR2 Paper\n",
    "###\n",
    "\n",
    "###\n",
    "dfgaia=pd.read_csv(carinasurvey) #The Gaia data\n",
    "\n",
    "gaia_ra=dfgaia[\"ra\"].values.tolist() #gaia ra list\n",
    "gaia_ra_error=dfgaia[\"ra_error\"].values.tolist() #gaia ra error list\n",
    "gaia_dec=dfgaia[\"dec\"].values.tolist() #gaia dec list\n",
    "gaia_dec_error=dfgaia[\"dec_error\"].values.tolist() #gaia dec error list\n",
    "gaia_pmra=dfgaia[\"pmra\"].values.tolist() #gaia pmra list\n",
    "gaia_pmra_error=dfgaia[\"pmra_error\"].values.tolist() #gaia pmra error list\n",
    "gaia_pmdec=dfgaia[\"pmdec\"].values.tolist() #gaia pmdec list\n",
    "gaia_pmdec_error=dfgaia[\"pmdec_error\"].values.tolist() #gaia pmdec error list\n",
    "gaia_gmag=dfgaia[\"phot_g_mean_mag\"].values.tolist() #gaia g mean mag list\n",
    "gaia_bmag=dfgaia[\"phot_bp_mean_mag\"].values.tolist() #gaia b mean mag list\n",
    "gaia_rmag=dfgaia[\"phot_rp_mean_mag\"].values.tolist() #gaia r mean mag list\n",
    "gaia_bminr=dfgaia[\"bp_rp\"].values.tolist() #gaia b-r mag values\n",
    "gaia_bming=dfgaia[\"bp_g\"].values.tolist() #gaia b-g mag values\n",
    "gaia_rv=dfgaia[\"radial_velocity\"].values.tolist() #gaia radial velocity values\n",
    "gaia_rv_err=dfgaia[\"radial_velocity_error\"].values.tolist() #gaia radial velocity error values\n",
    "gaia_gminr=dfgaia[\"g_rp\"].values.tolist() #gaia g-r mag values\n",
    "\n",
    "###"
   ]
  },
  {
   "cell_type": "markdown",
   "metadata": {},
   "source": [
    "## Tangent plane"
   ]
  },
  {
   "cell_type": "code",
   "execution_count": 5,
   "metadata": {},
   "outputs": [],
   "source": [
    "# making the spherical coordinates correction\n",
    "\n",
    "###\n",
    "\n",
    "del_x=[]\n",
    "del_y=[]\n",
    "\n",
    "at=np.deg2rad(gaiateamra)\n",
    "dt=np.deg2rad(gaiateamdec)\n",
    "\n",
    "for i in range(len(gaia_ra)):\n",
    "    \n",
    "    ai=np.deg2rad(gaia_ra[i])\n",
    "    di=np.deg2rad(gaia_dec[i])\n",
    "    \n",
    "    coss=np.sin(dt)*np.sin(di)+np.cos(dt)*np.cos(di)*np.cos(ai-at)\n",
    "\n",
    "    newra = np.rad2deg((np.cos(di)*np.sin(ai-at)) / coss)\n",
    "    newdec = np.rad2deg((np.cos(dt)*np.sin(di)-np.sin(dt)*np.cos(di)*np.cos(ai-at)) / coss)\n",
    "\n",
    "    del_x.append(newra)\n",
    "    del_y.append(newdec)\n",
    "\n",
    "###"
   ]
  },
  {
   "cell_type": "markdown",
   "metadata": {},
   "source": [
    "## Sigma Cut"
   ]
  },
  {
   "cell_type": "code",
   "execution_count": 6,
   "metadata": {},
   "outputs": [],
   "source": [
    "# Adding errors in quadrature\n",
    "\n",
    "###\n",
    "\n",
    "teampmra=0.495 #gaia team values for carina\n",
    "teampmra_error=0.015\n",
    "teampmdec=0.143\n",
    "teampmdec_error=0.014\n",
    "\n",
    "pmra_error_quad=[] #pmra error lists with the gaia error added in quadrature\n",
    "pmdec_error_quad=[] #pmdec error lists with the gaia error added in quadrature\n",
    "\n",
    "for i in range(len(gaia_pmra)): #Appending the gaia team pmra and pmdec to lists\n",
    "    pmra_error_quad.append(np.sqrt((gaia_pmra_error[i])**2+(teampmra_error)**2))\n",
    "    pmdec_error_quad.append(np.sqrt((gaia_pmdec_error[i])**2+(teampmdec_error)**2))\n",
    "\n",
    "###"
   ]
  },
  {
   "cell_type": "code",
   "execution_count": 7,
   "metadata": {},
   "outputs": [
    {
     "name": "stdout",
     "output_type": "stream",
     "text": [
      "Enter a number of sigma to cut on: 3\n"
     ]
    }
   ],
   "source": [
    "#3 sigma limitation\n",
    "\n",
    "###\n",
    "\n",
    "sig_pmra=[]\n",
    "sig_pmdec=[]\n",
    "sig_pmra_error=[]\n",
    "sig_pmdec_error=[]\n",
    "sig_gminr=[]\n",
    "sig_gmag=[]\n",
    "sig_bminr=[]\n",
    "sig_ra=[]\n",
    "sig_ra_error=[]\n",
    "sig_dec=[]\n",
    "sig_dec_error=[]\n",
    "sig_bmag=[]\n",
    "sig_rmag=[]\n",
    "sig_bming=[]\n",
    "sig_rv=[]\n",
    "sig_rv_err=[]\n",
    "sig_del_x=[]\n",
    "sig_del_y=[]\n",
    "\n",
    "signum=eval(input(\"Enter a number of sigma to cut on: \"))\n",
    "\n",
    "for i in range(len(pmra_error_quad)):\n",
    "    if gaia_pmra[i]+signum*pmra_error_quad[i]>=teampmra and gaia_pmra[i]-signum*pmra_error_quad[i]<=teampmra: #pmra check\n",
    "        if gaia_pmdec[i]+signum*pmdec_error_quad[i]>=teampmdec and gaia_pmdec[i]-signum*pmdec_error_quad[i]<=teampmdec: #pmdec check\n",
    "            sig_pmra.append(gaia_pmra[i])\n",
    "            sig_pmdec.append(gaia_pmdec[i])\n",
    "            sig_pmra_error.append(gaia_pmra_error[i])\n",
    "            sig_pmdec_error.append(gaia_pmdec_error[i])\n",
    "            sig_gminr.append(gaia_gminr[i])\n",
    "            sig_gmag.append(gaia_gmag[i])\n",
    "            sig_bminr.append(gaia_bminr[i])\n",
    "            sig_ra.append(gaia_ra[i])\n",
    "            sig_ra_error.append(gaia_ra_error[i])\n",
    "            sig_dec.append(gaia_dec[i])\n",
    "            sig_dec_error.append(gaia_dec_error[i])\n",
    "            sig_bmag.append(gaia_bmag[i])\n",
    "            sig_rmag.append(gaia_rmag[i])\n",
    "            sig_bming.append(gaia_bming[i])\n",
    "            sig_rv.append(gaia_rv[i])\n",
    "            sig_rv_err.append(gaia_rv_err[i])\n",
    "            sig_del_x.append(del_x[i])\n",
    "            sig_del_y.append(del_y[i])\n",
    "\n",
    "###"
   ]
  },
  {
   "cell_type": "markdown",
   "metadata": {},
   "source": [
    "## Magnitude Filter"
   ]
  },
  {
   "cell_type": "code",
   "execution_count": 8,
   "metadata": {},
   "outputs": [
    {
     "name": "stdout",
     "output_type": "stream",
     "text": [
      "Enter a magnitude limit: 20\n"
     ]
    }
   ],
   "source": [
    "maglimit=eval(input(\"Enter a magnitude limit: \"))\n",
    "\n",
    "mag_sig_pmra=[]\n",
    "mag_sig_pmdec=[]\n",
    "mag_sig_pmra_error=[]\n",
    "mag_sig_pmdec_error=[]\n",
    "mag_sig_gminr=[]\n",
    "mag_sig_gmag=[]\n",
    "mag_sig_bminr=[]\n",
    "mag_sig_ra=[]\n",
    "mag_sig_ra_error=[]\n",
    "mag_sig_dec=[]\n",
    "mag_sig_dec_error=[]\n",
    "mag_sig_bmag=[]\n",
    "mag_sig_rmag=[]\n",
    "mag_sig_bming=[]\n",
    "mag_sig_rv=[]\n",
    "mag_sig_rv_err=[]\n",
    "mag_sig_del_x=[]\n",
    "mag_sig_del_y=[]\n",
    "\n",
    "for i in range(len(sig_ra)):\n",
    "    if sig_gmag[i]<=maglimit:\n",
    "        mag_sig_pmra.append(sig_pmra[i])\n",
    "        mag_sig_pmdec.append(sig_pmdec[i])\n",
    "        mag_sig_pmra_error.append(sig_pmra_error[i])\n",
    "        mag_sig_pmdec_error.append(sig_pmdec_error[i])\n",
    "        mag_sig_gminr.append(sig_gminr[i])\n",
    "        mag_sig_gmag.append(sig_gmag[i])\n",
    "        mag_sig_bminr.append(sig_bminr[i])\n",
    "        mag_sig_ra.append(sig_ra[i])\n",
    "        mag_sig_ra_error.append(sig_ra_error[i])\n",
    "        mag_sig_dec.append(sig_dec[i])\n",
    "        mag_sig_dec_error.append(sig_dec_error[i])\n",
    "        mag_sig_bmag.append(sig_bmag[i])\n",
    "        mag_sig_rmag.append(sig_rmag[i])\n",
    "        mag_sig_bming.append(sig_bming[i])\n",
    "        mag_sig_rv.append(sig_rv[i])\n",
    "        mag_sig_rv_err.append(sig_rv_err[i])\n",
    "        mag_sig_del_x.append(sig_del_x[i])\n",
    "        mag_sig_del_y.append(sig_del_y[i])"
   ]
  },
  {
   "cell_type": "markdown",
   "metadata": {},
   "source": [
    "## Branch Cut"
   ]
  },
  {
   "cell_type": "code",
   "execution_count": 9,
   "metadata": {},
   "outputs": [],
   "source": [
    "# Eliminating by branch bounds\n",
    "\n",
    "###\n",
    "\n",
    "# y is gmag, x is bp-rp\n",
    "# 01 eq'n: y=8.7957x+17.0155\n",
    "# 12 eq'n: y=20.3745-0.534783x\n",
    "# 23 eq'n: y=24.1125-5.09333x\n",
    "# 34 eq'n: y=22.4778-3.40806x\n",
    "# 45 eq'n: y=21.0517-2.51111x\n",
    "# 56 eq'n: y=0.923954x+14.6624\n",
    "# 67 eq'n: y=19.7458-1.20655x\n",
    "# 78 eq'n: y=24.9542-4.67883x\n",
    "# 89 eq'n: y=44.6219-20.7209x\n",
    "# 90 eq'n: y=21\n",
    "\n",
    "sigbranch_ra=[]\n",
    "sigbranch_dec=[]\n",
    "sigbranch_ra_error=[]\n",
    "sigbranch_dec_error=[]\n",
    "sigbranch_pmra=[]\n",
    "sigbranch_pmra_error=[]\n",
    "sigbranch_pmdec=[]\n",
    "sigbranch_pmdec_error=[]\n",
    "sigbranch_gmag=[]\n",
    "sigbranch_bmag=[]\n",
    "sigbranch_rmag=[]\n",
    "sigbranch_bminr=[]\n",
    "sigbranch_bming=[]\n",
    "sigbranch_gminr=[]\n",
    "sigbranch_rv=[]\n",
    "sigbranch_rv_err=[]\n",
    "sigbranch_del_x=[]\n",
    "sigbranch_del_y=[]\n",
    "\n",
    "for i in range(len(mag_sig_bminr)):\n",
    "    if mag_sig_bminr[i]>=bprp_bounds[1] and mag_sig_bminr[i]<bprp_bounds[0] and mag_sig_gmag[i]<=8.7957*mag_sig_bminr[i]+17.0155 and mag_sig_gmag[i]>=20.3745-0.534783*mag_sig_bminr[i]: #Polygon 1\n",
    "        count=1\n",
    "    elif mag_sig_bminr[i]>=bprp_bounds[0] and mag_sig_bminr[i]<bprp_bounds[2] and mag_sig_gmag[i]<=21 and mag_sig_gmag[i]>=20.3745-0.534783*mag_sig_bminr[i]: #Polygon 2\n",
    "        count=1\n",
    "    elif mag_sig_bminr[i]>=bprp_bounds[2] and mag_sig_bminr[i]<bprp_bounds[3] and mag_sig_gmag[i]<=21 and mag_sig_gmag[i]>=24.1125-5.09333*mag_sig_bminr[i]: #Polygon 3\n",
    "        count=1\n",
    "    elif mag_sig_bminr[i]>=bprp_bounds[3] and mag_sig_bminr[i]<bprp_bounds[9] and mag_sig_gmag[i]<=21 and mag_sig_gmag[i]>=22.4778-3.40806*mag_sig_bminr[i]: #Polygon 4\n",
    "        count=1\n",
    "    elif mag_sig_bminr[i]>=bprp_bounds[9] and mag_sig_bminr[i]<bprp_bounds[8] and mag_sig_gmag[i]<=44.6219-20.7209*mag_sig_bminr[i] and mag_sig_gmag[i]>=22.4778-3.40806*mag_sig_bminr[i]: #Polygon 5\n",
    "        count=1\n",
    "    elif mag_sig_bminr[i]>=bprp_bounds[8] and mag_sig_bminr[i]<bprp_bounds[7] and mag_sig_gmag[i]<=24.9542-4.67883*mag_sig_bminr[i] and mag_sig_gmag[i]>=22.4778-3.40806*mag_sig_bminr[i]: #Polygon 6\n",
    "        count=1\n",
    "    elif mag_sig_bminr[i]>=bprp_bounds[7] and mag_sig_bminr[i]<bprp_bounds[4] and mag_sig_gmag[i]<=19.7458-1.20655*mag_sig_bminr[i] and mag_sig_gmag[i]>=22.4778-3.40806*mag_sig_bminr[i]: #Polygon 7\n",
    "        count=1\n",
    "    elif mag_sig_bminr[i]>=bprp_bounds[4] and mag_sig_bminr[i]<bprp_bounds[5] and mag_sig_gmag[i]<=19.7458-1.20655*mag_sig_bminr[i] and mag_sig_gmag[i]>=21.0517-2.51111*mag_sig_bminr[i]: #Polygon 8\n",
    "        count=1\n",
    "    elif mag_sig_bminr[i]>=bprp_bounds[5] and mag_sig_bminr[i]<bprp_bounds[6] and mag_sig_gmag[i]<=19.7458-1.20655*mag_sig_bminr[i] and mag_sig_gmag[i]>=0.923954*mag_sig_bminr[i]+14.6624: #Polygon 9\n",
    "        count=1\n",
    "    else:\n",
    "        count=0\n",
    "    if count==1:\n",
    "        #append all the stuff\n",
    "        sigbranch_ra.append(mag_sig_ra[i])\n",
    "        sigbranch_dec.append(mag_sig_dec[i])\n",
    "        sigbranch_ra_error.append(mag_sig_ra_error[i])\n",
    "        sigbranch_dec_error.append(mag_sig_dec_error[i])\n",
    "        sigbranch_pmra.append(mag_sig_pmra[i])\n",
    "        sigbranch_pmra_error.append(mag_sig_pmra_error[i])\n",
    "        sigbranch_pmdec.append(mag_sig_pmdec[i])\n",
    "        sigbranch_pmdec_error.append(mag_sig_pmdec_error[i])\n",
    "        sigbranch_gmag.append(mag_sig_gmag[i])\n",
    "        sigbranch_bmag.append(mag_sig_bmag[i])\n",
    "        sigbranch_rmag.append(mag_sig_rmag[i])\n",
    "        sigbranch_bminr.append(mag_sig_bminr[i])\n",
    "        sigbranch_bming.append(mag_sig_bming[i])\n",
    "        sigbranch_gminr.append(mag_sig_gminr[i])\n",
    "        sigbranch_rv.append(mag_sig_rv[i])\n",
    "        sigbranch_rv_err.append(mag_sig_rv_err[i])\n",
    "        sigbranch_del_x.append(mag_sig_del_x[i])\n",
    "        sigbranch_del_y.append(mag_sig_del_y[i])\n",
    "###"
   ]
  },
  {
   "cell_type": "markdown",
   "metadata": {},
   "source": [
    "## Calculating weighted mean averages and chi squared values before the semimajor axis cut\n"
   ]
  },
  {
   "cell_type": "code",
   "execution_count": 10,
   "metadata": {},
   "outputs": [
    {
     "name": "stdout",
     "output_type": "stream",
     "text": [
      "\n",
      "PMRA Weighted mean before semimajoraxis calculation: 0.4922847897603826\n",
      "PMRA Weighted mean error before semimajoraxis calculation: 0.008022317511132542 \n",
      "\n",
      "PM-Dec Weighted mean before semimajoraxis calculation: 0.5567245730164292\n",
      "PM-Dec Weighted mean error before semimajoraxis calculation: 0.008860907979425887 \n",
      "\n",
      "n-1 d.o.f.: 5681\n",
      "Chi Squared value for PM-RA before semimajoraxis calculation: 11726.931425774188\n",
      "Chi Squared value for PM-Dec before semimajoraxis calculation: 14077.849797110437 \n",
      "\n"
     ]
    }
   ],
   "source": [
    "###\n",
    "\n",
    "sigbranch_pmramean,sigbranch_pmramean_error=weightedMean(sigbranch_pmra,sigbranch_pmra_error)\n",
    "sigbranch_pmdecmean,sigbranch_pmdecmean_error=weightedMean(sigbranch_pmdec,sigbranch_pmdec_error)\n",
    "\n",
    "print(\"\\nPMRA Weighted mean before semimajoraxis calculation:\",sigbranch_pmramean)\n",
    "print(\"PMRA Weighted mean error before semimajoraxis calculation:\",sigbranch_pmramean_error,\"\\n\")\n",
    "print(\"PM-Dec Weighted mean before semimajoraxis calculation:\",sigbranch_pmdecmean)\n",
    "print(\"PM-Dec Weighted mean error before semimajoraxis calculation:\",sigbranch_pmdecmean_error,\"\\n\")\n",
    "###\n",
    "pmrachi=chiSquare(sigbranch_pmra,sigbranch_pmra_error,sigbranch_pmramean)\n",
    "pmdecchi=chiSquare(sigbranch_pmdec,sigbranch_pmdec_error,sigbranch_pmdecmean)\n",
    "\n",
    "print(\"n-1 d.o.f.:\",len(sigbranch_pmra)-1)\n",
    "\n",
    "print(\"Chi Squared value for PM-RA before semimajoraxis calculation:\",pmrachi)\n",
    "print(\"Chi Squared value for PM-Dec before semimajoraxis calculation:\",pmdecchi,\"\\n\")\n",
    "\n",
    "###"
   ]
  },
  {
   "cell_type": "markdown",
   "metadata": {},
   "source": [
    "## Rotated coordinates work\n",
    "\n"
   ]
  },
  {
   "cell_type": "code",
   "execution_count": 11,
   "metadata": {},
   "outputs": [
    {
     "name": "stdout",
     "output_type": "stream",
     "text": [
      "What angle of rotation do you want to impose on the rotated coordinates? 62\n",
      "\n",
      "What was the radius on this data set? (in degrees) 3.33\n"
     ]
    }
   ],
   "source": [
    "###\n",
    "\n",
    "binnum=50\n",
    "\n",
    "ellipticity=0.33 #The ellipticity Taken from McConnachie paper\n",
    "\n",
    "rlist=[]\n",
    "\n",
    "ellipsearealist=[]\n",
    "\n",
    "semimajoraxis_size_list=[]\n",
    "semiminoraxis_size_list=[]\n",
    "\n",
    "rotationval=eval(input(\"What angle of rotation do you want to impose on the rotated coordinates? \"))+90\n",
    "\n",
    "angle=np.deg2rad(rotationval)\n",
    "\n",
    "rotated_ra=[]\n",
    "rotated_dec=[]\n",
    "\n",
    "ax_sigbranch_ra=[]\n",
    "ax_sigbranch_dec=[]\n",
    "ax_sigbranch_ra_error=[]\n",
    "ax_sigbranch_dec_error=[]\n",
    "ax_sigbranch_pmra=[]\n",
    "ax_sigbranch_pmra_error=[]\n",
    "ax_sigbranch_pmdec=[]\n",
    "ax_sigbranch_pmdec_error=[]\n",
    "ax_sigbranch_gmag=[]\n",
    "ax_sigbranch_bmag=[]\n",
    "ax_sigbranch_rmag=[]\n",
    "ax_sigbranch_bminr=[]\n",
    "ax_sigbranch_bming=[]\n",
    "ax_sigbranch_gminr=[]\n",
    "ax_sigbranch_rv=[]\n",
    "ax_sigbranch_rv_err=[]\n",
    "ax_sigbranch_del_x=[]\n",
    "ax_sigbranch_del_y=[]\n",
    "rot_sigbranch_del_x=[]\n",
    "rot_sigbranch_del_y=[]\n",
    "\n",
    "gaiateamra=100.4029166667 #RA from Gaia DR2 Paper \n",
    "gaiateamdec=-50.96611 #Dec from Gaia DR2 Paper \n",
    "\n",
    "length=len(sigbranch_ra)\n",
    "\n",
    "surveyradius=eval(input(\"\\nWhat was the radius on this data set? (in degrees) \"))\n",
    "\n",
    "for i in range(length):\n",
    "\n",
    "    ra_rotated=(sigbranch_del_x[i])*np.cos(angle)-(sigbranch_del_y[i])*np.sin(angle)\n",
    "    dec_rotated=(sigbranch_del_y[i])*np.cos(angle)+(sigbranch_del_x[i])*np.sin(angle)\n",
    "\n",
    "    a=np.sqrt((ra_rotated)**2+(dec_rotated)**2/(1-ellipticity)**2) # Using this equation, calculating a single semimajor axis\n",
    "    \n",
    "    if a <= surveyradius:\n",
    "\n",
    "        semimajoraxis_size_list.append(a) #Appending that semimajor axis value to a list\n",
    "        b=np.sqrt((1-ellipticity)**2*(ra_rotated)**2+(dec_rotated)**2) # Using this equation, calculating a single semiminor axis\n",
    "        semiminoraxis_size_list.append(b)\n",
    "        r=np.sqrt((ra_rotated)**2+(dec_rotated)**2) # Radius calculation\n",
    "        rlist.append(r)\n",
    "        \n",
    "        rotated_del_x=sigbranch_del_x[i]*np.cos(angle)-sigbranch_del_y[i]*np.sin(angle)\n",
    "        rotated_del_y=sigbranch_del_x[i]*np.sin(angle)+sigbranch_del_y[i]*np.cos(angle)\n",
    "        \n",
    "        rotated_ra.append(ra_rotated+gaiateamra)\n",
    "        rotated_dec.append(dec_rotated+gaiateamdec)\n",
    "        \n",
    "        ax_sigbranch_ra.append(sigbranch_ra[i])\n",
    "        ax_sigbranch_dec.append(sigbranch_dec[i])\n",
    "        ax_sigbranch_ra_error.append(sigbranch_ra_error[i])\n",
    "        ax_sigbranch_dec_error.append(sigbranch_dec_error[i])\n",
    "        ax_sigbranch_pmra.append(sigbranch_pmra[i])\n",
    "        ax_sigbranch_pmra_error.append(sigbranch_pmra_error[i])\n",
    "        ax_sigbranch_pmdec.append(sigbranch_pmdec[i])\n",
    "        ax_sigbranch_pmdec_error.append(sigbranch_pmdec_error[i])\n",
    "        ax_sigbranch_gmag.append(sigbranch_gmag[i])\n",
    "        ax_sigbranch_bmag.append(sigbranch_bmag[i])\n",
    "        ax_sigbranch_rmag.append(sigbranch_rmag[i])\n",
    "        ax_sigbranch_bminr.append(sigbranch_bminr[i])\n",
    "        ax_sigbranch_bming.append(sigbranch_bming[i])\n",
    "        ax_sigbranch_gminr.append(sigbranch_gminr[i])\n",
    "        ax_sigbranch_rv.append(sigbranch_rv[i])\n",
    "        ax_sigbranch_rv_err.append(sigbranch_rv_err[i])\n",
    "        rot_sigbranch_del_x.append(rotated_del_x)\n",
    "        rot_sigbranch_del_y.append(rotated_del_y)\n",
    "        ax_sigbranch_del_x.append(sigbranch_del_x[i])\n",
    "        ax_sigbranch_del_y.append(sigbranch_del_y[i])\n",
    "\n",
    "for i in range(len(semimajoraxis_size_list)):\n",
    "    area=(semimajoraxis_size_list[i]*semiminoraxis_size_list[i]*(np.pi)) # Area given the semimajor and semiminor axis\n",
    "    ellipsearealist.append(area)\n",
    "\n",
    "###"
   ]
  },
  {
   "cell_type": "markdown",
   "metadata": {},
   "source": [
    "## Calculating weighted mean averages and chi squared values after the semimajor axis cut\n",
    "\n"
   ]
  },
  {
   "cell_type": "code",
   "execution_count": 12,
   "metadata": {},
   "outputs": [
    {
     "name": "stdout",
     "output_type": "stream",
     "text": [
      "\n",
      "PMRA Weighted mean after semimajoraxis calculation: 0.48490503583394473\n",
      "PMRA Weighted mean error after semimajoraxis calculation: 0.009263179528074188 \n",
      "\n",
      "PM-Dec Weighted mean after semimajoraxis calculation: 0.4899973680705977\n",
      "PM-Dec Weighted mean error after semimajoraxis calculation: 0.009974231373742848 \n",
      "\n",
      "n-1 d.o.f.: 3923\n",
      "Chi Squared value for PM-RA before semimajoraxis calculation: 7823.246066890961\n",
      "Chi Squared value for PM-Dec before semimajoraxis calculation: 9811.06336065576 \n",
      "\n"
     ]
    }
   ],
   "source": [
    "###\n",
    "\n",
    "ax_sigbranch_pmramean,ax_sigbranch_pmramean_error=weightedMean(ax_sigbranch_pmra,ax_sigbranch_pmra_error)\n",
    "ax_sigbranch_pmdecmean,ax_sigbranch_pmdecmean_error=weightedMean(ax_sigbranch_pmdec,ax_sigbranch_pmdec_error)\n",
    "\n",
    "print(\"\\nPMRA Weighted mean after semimajoraxis calculation:\",ax_sigbranch_pmramean)\n",
    "print(\"PMRA Weighted mean error after semimajoraxis calculation:\",ax_sigbranch_pmramean_error,\"\\n\")\n",
    "print(\"PM-Dec Weighted mean after semimajoraxis calculation:\",ax_sigbranch_pmdecmean)\n",
    "print(\"PM-Dec Weighted mean error after semimajoraxis calculation:\",ax_sigbranch_pmdecmean_error,\"\\n\")\n",
    "###\n",
    "ax_pmrachi=chiSquare(ax_sigbranch_pmra,ax_sigbranch_pmra_error,ax_sigbranch_pmramean)\n",
    "ax_pmdecchi=chiSquare(ax_sigbranch_pmdec,ax_sigbranch_pmdec_error,ax_sigbranch_pmdecmean)\n",
    "\n",
    "print(\"n-1 d.o.f.:\",len(ax_sigbranch_pmra)-1)\n",
    "\n",
    "print(\"Chi Squared value for PM-RA before semimajoraxis calculation:\",ax_pmrachi)\n",
    "print(\"Chi Squared value for PM-Dec before semimajoraxis calculation:\",ax_pmdecchi,\"\\n\")\n",
    "\n",
    "###"
   ]
  },
  {
   "cell_type": "markdown",
   "metadata": {},
   "source": [
    "## Ratios between coordinates\n",
    "\n"
   ]
  },
  {
   "cell_type": "code",
   "execution_count": 13,
   "metadata": {},
   "outputs": [
    {
     "name": "stdout",
     "output_type": "stream",
     "text": [
      "\n",
      "The ratio of quadrants: 0.9898580121703854 \n",
      "\n"
     ]
    }
   ],
   "source": [
    "###\n",
    "\n",
    "countodd=0\n",
    "counteven=0\n",
    "\n",
    "for i in range(len(rotated_ra)):\n",
    "    if rotated_ra[i]<=gaiateamra and rotated_dec[i]<=gaiateamdec:\n",
    "        counteven+=1\n",
    "    elif rotated_ra[i]>=gaiateamra and rotated_dec[i]>=gaiateamdec:\n",
    "        counteven+=1\n",
    "    else:\n",
    "        countodd+=1\n",
    "\n",
    "nratio=countodd/counteven\n",
    "\n",
    "print(\"\\nThe ratio of quadrants:\",nratio,\"\\n\")\n",
    "\n",
    "###"
   ]
  },
  {
   "cell_type": "markdown",
   "metadata": {},
   "source": [
    "## Area sorting to create stat plots\n",
    "\n"
   ]
  },
  {
   "cell_type": "code",
   "execution_count": 14,
   "metadata": {},
   "outputs": [],
   "source": [
    "###\n",
    "\n",
    "axisdict={}\n",
    "\n",
    "for i in range(len(ellipsearealist)):\n",
    "    axisdict[i]=semimajoraxis_size_list[i]\n",
    "\n",
    "axis_sorted=sorted(axisdict.values())\n",
    "\n",
    "index_sorted=[]\n",
    "\n",
    "for i in range(len(semimajoraxis_size_list)):\n",
    "    for j in range(len(axis_sorted)):\n",
    "        if axis_sorted[i]==axisdict[j]:\n",
    "            index_sorted.append(j) # Sorting the index values for using in the next for loop to append sorted semimajor axis values\n",
    "\n",
    "area_sorted = []\n",
    "\n",
    "for j in range(len(index_sorted)):\n",
    "    area_sorted.append(ellipsearealist[index_sorted[j]])\n",
    "\n",
    "###"
   ]
  },
  {
   "cell_type": "markdown",
   "metadata": {},
   "source": [
    "## Number density bin calculations\n",
    "\n"
   ]
  },
  {
   "cell_type": "code",
   "execution_count": 15,
   "metadata": {},
   "outputs": [
    {
     "name": "stdout",
     "output_type": "stream",
     "text": [
      "Enter the stars per bin number: (Note: there were 3924 stars in the set)15\n"
     ]
    }
   ],
   "source": [
    "###\n",
    "starsperbinstring=\"Enter the stars per bin number: (Note: there were \"+str(len(ax_sigbranch_pmra))+\" stars in the set)\"\n",
    "starsperbinnum=eval(input(starsperbinstring))\n",
    "\n",
    "raddensbinnum=int(len(ellipsearealist)/starsperbinnum)\n",
    "\n",
    "densitylist=[]\n",
    "semimajaxislist=[]\n",
    "unclist=[]\n",
    "arealist=[]\n",
    "\n",
    "old_area=0\n",
    "\n",
    "for i in range(raddensbinnum):\n",
    "\n",
    "    semimajaxislist.append(axis_sorted[i*starsperbinnum+3])\n",
    "\n",
    "    area=area_sorted[(i+1)*starsperbinnum-1]-old_area\n",
    "\n",
    "    arealist.append(area)\n",
    "\n",
    "    densitylist.append(starsperbinnum/area)\n",
    "\n",
    "    old_area=area_sorted[(i+1)*starsperbinnum-1]\n",
    "\n",
    "    unclist.append(np.sqrt(starsperbinnum)/area)\n",
    "\n",
    "###"
   ]
  },
  {
   "cell_type": "markdown",
   "metadata": {},
   "source": [
    "## Graph before multiple binning and background subtraction methods"
   ]
  },
  {
   "cell_type": "code",
   "execution_count": 16,
   "metadata": {},
   "outputs": [
    {
     "data": {
      "image/png": "[encoded data removed]",
      "text/plain": [
       "<matplotlib.figure.Figure at 0x1a1d25be80>"
      ]
     },
     "metadata": {},
     "output_type": "display_data"
    }
   ],
   "source": [
    "plt.scatter(semimajaxislist,densitylist,s=1,c=\"blue\")\n",
    "plt.errorbar(semimajaxislist,densitylist,unclist,0,linestyle=\"none\",capsize=1,capthick=1,elinewidth=1,c=\"blue\")\n",
    "# plt.plot([10**-2,3.33],[densitysubtraction,densitysubtraction],c=\"black\")\n",
    "\n",
    "plt.grid(True)\n",
    "\n",
    "# plt.plot(x,y,\"-o\",linewidth=1,c=\"blue\") if you want to plot a line diagram\n",
    "\n",
    "plt.xlabel(\"Semi-Major axis length\")\n",
    "plt.ylabel(\"Density\")\n",
    "\n",
    "# plt.xlim(lowerlim,upperlim)\n",
    "# plt.ylim(lowerlim,upperlim)\n",
    "\n",
    "plt.loglog() #for a log log graph, uncomment this and comment in xlim and ylim\n",
    "\n",
    "# plt.ylim(plt.ylim()[::-1]) to reverse axes, uncomment this\n",
    "# plt.xlim(plt.xlim()[::-1]) to reverse axes, uncomment this\n",
    "\n",
    "plt.title(\"Number Density Plot of Semimajor Axes\")\n",
    "\n",
    "# plt.gca().set_aspect('equal', adjustable='box')\n",
    "\n",
    "plt.savefig(\"Radial_surface_density_plot_unsub.png\",dpi=300)\n",
    "\n",
    "plt.show()"
   ]
  },
  {
   "cell_type": "code",
   "execution_count": 17,
   "metadata": {},
   "outputs": [
    {
     "name": "stdout",
     "output_type": "stream",
     "text": [
      "At what point does the uniform stars per binning stop being effective? 0.7\n",
      "At what point does the baseline density start? 1.01\n"
     ]
    }
   ],
   "source": [
    "firstbound=eval(input(\"At what point does the uniform stars per binning stop being effective? \"))\n",
    "secondbound=eval(input(\"At what point does the baseline density start? \"))"
   ]
  },
  {
   "cell_type": "markdown",
   "metadata": {},
   "source": [
    "## Multiple binning and background subtraction"
   ]
  },
  {
   "cell_type": "code",
   "execution_count": 18,
   "metadata": {},
   "outputs": [
    {
     "name": "stdout",
     "output_type": "stream",
     "text": [
      "How many stars per bin do you want to use for the first region? (There are 713 stars in that region) \n",
      "14\n",
      "How many bins do you want for the region of fixed bin number? (There are 3211 stars in that region) \n",
      "50\n",
      "The density subtraction for the baseline data is 140.5510731755332\n"
     ]
    }
   ],
   "source": [
    "### - Multiple Binning\n",
    "\n",
    "zerobound=0\n",
    "thirdbound=surveyradius\n",
    "\n",
    "\n",
    "r1semimajaxis=[]\n",
    "r1area=[]\n",
    "r2semimajaxis=[]\n",
    "r2area=[]\n",
    "r3semimajaxis=[]\n",
    "r3area=[]\n",
    "\n",
    "for i in range(len(axis_sorted)):\n",
    "    if axis_sorted[i]<=firstbound and axis_sorted[i]>zerobound:\n",
    "        r1semimajaxis.append(axis_sorted[i])\n",
    "        r1area.append(area_sorted[i])\n",
    "    elif axis_sorted[i]<=secondbound and axis_sorted[i]>firstbound:\n",
    "        r2semimajaxis.append(axis_sorted[i])\n",
    "        r2area.append(area_sorted[i])\n",
    "    elif axis_sorted[i]<=thirdbound and axis_sorted[i]>secondbound:\n",
    "        r3semimajaxis.append(axis_sorted[i])\n",
    "        r3area.append(area_sorted[i])\n",
    "\n",
    "region1num=len(r1semimajaxis)\n",
    "region2num=len(r2semimajaxis)+len(r3semimajaxis)\n",
    "region2semimajaxis=r2semimajaxis+r3semimajaxis\n",
    "region2area=r2area+r3area\n",
    "\n",
    "starsperbinstring=\"How many stars per bin do you want to use for the first region? (There are \"+str(region1num)+\" stars in that region) \\n\"\n",
    "adjustedstarsperbinnum=int(input(starsperbinstring)) # Stars per bin to be used in Region 1\n",
    "fixedbinstring=\"How many bins do you want for the region of fixed bin number? (There are \"+str(region2num)+\" stars in that region) \\n\"\n",
    "fixedbinnum=int(input(fixedbinstring)) # Number of bins to be used in Region 2\n",
    "\n",
    "# region 1 calculations\n",
    "reg1density=[]\n",
    "reg1semimajaxislist=[]\n",
    "reg1arealist=[]\n",
    "oldarea=0\n",
    "reg1unclist=[]\n",
    "\n",
    "for i in range(int(region1num/adjustedstarsperbinnum)):\n",
    "    index=(i+1)*adjustedstarsperbinnum-1\n",
    "    reg1semimajaxislist.append(r1semimajaxis[index])\n",
    "    area=r1area[index]-oldarea\n",
    "    reg1arealist.append(area)\n",
    "    reg1density.append(adjustedstarsperbinnum/area)\n",
    "    oldarea=r1area[index]\n",
    "    reg1unclist.append(np.sqrt(adjustedstarsperbinnum)/area)\n",
    "#     print(index)\n",
    "if region1num%adjustedstarsperbinnum!=0:\n",
    "    diff=region1num-index-1\n",
    "    index=region1num-1\n",
    "    reg1semimajaxislist.append(r1semimajaxis[index])\n",
    "    area=r1area[index]-oldarea\n",
    "    reg1arealist.append(area)\n",
    "    reg1density.append(diff/area)\n",
    "    reg1unclist.append(np.sqrt(diff)/area)\n",
    "    oldarea=r1area[index]\n",
    "#     print(index)\n",
    "    \n",
    "# print()\n",
    "index=0\n",
    "\n",
    "#r2 and r3 calculations - region 2\n",
    "\n",
    "reg2density=[]\n",
    "reg2semimajaxislist=[]\n",
    "reg2arealist=[]\n",
    "reg2unclist=[]\n",
    "intreg2starsperbinnum=int(region2num/fixedbinnum)\n",
    "\n",
    "if region2num%fixedbinnum==0:\n",
    "    for i in range(0,fixedbinnum):\n",
    "        index=(i+1)*intreg2starsperbinnum-1\n",
    "        reg2semimajaxislist.append(region2semimajaxis[index])\n",
    "        area=region2area[index]-oldarea\n",
    "        reg2arealist.append(area)\n",
    "        reg2density.append(int(region2num/fixedbinnum)/area)\n",
    "        oldarea=region2area[index]\n",
    "        reg2unclist.append(np.sqrt(intreg2starsperbinnum)/area)\n",
    "        print(index)\n",
    "else:\n",
    "    for i in range(0,fixedbinnum-1):\n",
    "        index=(i+1)*intreg2starsperbinnum-1\n",
    "        reg2semimajaxislist.append(region2semimajaxis[index])\n",
    "        area=region2area[index]-oldarea\n",
    "        reg2arealist.append(area)\n",
    "        reg2density.append(int(region2num/fixedbinnum)/area)\n",
    "        oldarea=region2area[index]\n",
    "        reg2unclist.append(np.sqrt(intreg2starsperbinnum)/area)\n",
    "#         print(index)\n",
    "    diff=region2num-index-1\n",
    "    index=region2num-1\n",
    "    reg2semimajaxislist.append(region2semimajaxis[index])\n",
    "    area=region2area[index]-oldarea\n",
    "    reg2arealist.append(area)\n",
    "    reg2density.append(int(region2num/fixedbinnum)/area)\n",
    "    oldarea=region2area[index]\n",
    "    reg2unclist.append(np.sqrt(diff)/area)\n",
    "    \n",
    "#     print(index)\n",
    "\n",
    "adjusted_densitylist=reg1density+reg2density\n",
    "adjusted_semimajoraxislist=reg1semimajaxislist+reg2semimajaxislist\n",
    "adjusted_arealist=reg1arealist+reg2arealist\n",
    "adjusted_unclist=reg1unclist+reg2unclist\n",
    "\n",
    "baselinedensitylist=[]\n",
    "baselineunclist=[]\n",
    "for i in range(len(adjusted_semimajoraxislist)):\n",
    "    if adjusted_semimajoraxislist[i]<=thirdbound and adjusted_semimajoraxislist[i]>secondbound:\n",
    "        baselinedensitylist.append(adjusted_densitylist[i])\n",
    "        baselineunclist.append(adjusted_unclist[i])\n",
    "###\n",
    "\n",
    "### - Background subtraction\n",
    "\n",
    "densitysubtraction,uncsubtraction=weightedMean(baselinedensitylist,baselineunclist)\n",
    "print(\"The density subtraction for the baseline data is\",densitysubtraction)\n",
    "\n",
    "\n",
    "for i in range(len(adjusted_unclist)):\n",
    "    adjusted_arealist[i]=np.sqrt(adjusted_unclist[i]**2+uncsubtraction**2)\n",
    "    adjusted_densitylist[i]=adjusted_densitylist[i]-densitysubtraction\n",
    "    if adjusted_densitylist[i]<0:\n",
    "#         print(adjusted_densitylist[i])\n",
    "        adjusted_densitylist[i]=10**-1\n",
    "\n",
    "\n",
    "###"
   ]
  },
  {
   "cell_type": "code",
   "execution_count": 19,
   "metadata": {},
   "outputs": [
    {
     "data": {
      "image/png": "[encoded data removed]",
      "text/plain": [
       "<matplotlib.figure.Figure at 0x1a2850bac8>"
      ]
     },
     "metadata": {},
     "output_type": "display_data"
    }
   ],
   "source": [
    "plt.scatter(adjusted_semimajoraxislist,adjusted_densitylist,s=1,c=\"blue\")\n",
    "plt.errorbar(adjusted_semimajoraxislist,adjusted_densitylist,adjusted_unclist,0,linestyle=\"none\",capsize=1,capthick=1,elinewidth=1,c=\"blue\")\n",
    "plt.grid(True)\n",
    "plt.xlabel(\"Semi-Major axis length\")\n",
    "plt.ylabel(\"Density (number)\")\n",
    "plt.loglog()\n",
    "plt.title(\"Adjusted Number Density Plot of Semimajor Axes\")\n",
    "plt.show()"
   ]
  },
  {
   "cell_type": "markdown",
   "metadata": {},
   "source": [
    "### Making the central point average calculation"
   ]
  },
  {
   "cell_type": "code",
   "execution_count": 20,
   "metadata": {},
   "outputs": [
    {
     "name": "stdout",
     "output_type": "stream",
     "text": [
      "At what point does the central point value diverge? .1\n"
     ]
    }
   ],
   "source": [
    "centpointstop=eval(input(\"At what point does the central point value diverge? \"))\n",
    "\n",
    "centpointvals=0\n",
    "newcount=0\n",
    "\n",
    "for i in range(len(adjusted_densitylist)):\n",
    "    if adjusted_semimajoraxislist[i]<=centpointstop:\n",
    "        centpointvals+=adjusted_densitylist[i]\n",
    "        newcount+=1\n",
    "\n",
    "centpointaverage=centpointvals/newcount"
   ]
  },
  {
   "cell_type": "code",
   "execution_count": 21,
   "metadata": {},
   "outputs": [],
   "source": [
    "radiusstring=\"Survey Radius: \"+\"{0:0.2f}\".format((surveyradius))+\" degrees\"\n",
    "magstring=\"Magnitude Limit: \"+str(maglimit)\n",
    "sigmastring=\"σ$_{num}$: \"+str(signum)\n",
    "backdensstring=\"Background density: \"+str(densitysubtraction)\n",
    "backdensuncstring=\"Background density uncertainty: \"+\"{0:0.1f}\".format(uncsubtraction)\n",
    "regionstring=\"Gaia team RA: \"+\"{0:0.2f}\".format(gaiateamra)+\" degrees\\nGaia team Dec: \"+\"{0:0.2f}\".format(gaiateamdec)+\" degrees\"\n",
    "ratiostring=\"Ratio of center-point density\\nto background density: \"+\"{0:0.4f}\".format(centpointaverage/densitysubtraction)"
   ]
  },
  {
   "cell_type": "markdown",
   "metadata": {},
   "source": [
    "## The graph of Number Density after Using different binning methods and a background subtraction"
   ]
  },
  {
   "cell_type": "code",
   "execution_count": 22,
   "metadata": {},
   "outputs": [
    {
     "data": {
      "image/png": "[encoded data removed]",
      "text/plain": [
       "<matplotlib.figure.Figure at 0x1a28c71f60>"
      ]
     },
     "metadata": {},
     "output_type": "display_data"
    }
   ],
   "source": [
    "plt.scatter(adjusted_semimajoraxislist,adjusted_densitylist,s=1,c=\"blue\")\n",
    "plt.errorbar(adjusted_semimajoraxislist,adjusted_densitylist,adjusted_unclist,0,linestyle=\"none\",capsize=1,capthick=1,elinewidth=1,c=\"blue\")\n",
    "plt.plot([10**-2,3.33],[densitysubtraction,densitysubtraction],c=\"black\")\n",
    "\n",
    "plt.grid(True)\n",
    "\n",
    "# plt.plot(x,y,\"-o\",linewidth=1,c=\"blue\") if you want to plot a line diagram\n",
    "\n",
    "plt.xlabel(\"Semi-Major axis length\")\n",
    "plt.ylabel(\"Density (number)\")\n",
    "\n",
    "# plt.ylim(0.8*10**-2,2*10**4)\n",
    "# plt.xlim(lowerlim,upperlim)\n",
    "\n",
    "plt.loglog() #for a log log graph, uncomment this and comment in xlim and ylim\n",
    "\n",
    "# plt.ylim(plt.ylim()[::-1]) to reverse axes, uncomment this\n",
    "# plt.xlim(plt.xlim()[::-1]) to reverse axes, uncomment this\n",
    "\n",
    "plt.title(\"Adjusted Number Density Plot of Semimajor Axes\")\n",
    "\n",
    "plt.text(0.012,1.06**10**0,ratiostring)\n",
    "plt.text(0.012,0.5*10**0,radiusstring)\n",
    "plt.text(0.012,0.23*10**0,backdensstring) #this\n",
    "plt.text(0.012,0.112*10**0,backdensuncstring)\n",
    "plt.text(0.012,5,\"Central Density: \"+\"{0:0.2f}\".format(centpointaverage))\n",
    "\n",
    "# plt.gca().set_aspect('equal', adjustable='box')\n",
    "\n",
    "plt.savefig(\"Adjusted_Radial_surface_density_plot.png\",dpi=300)\n",
    "\n",
    "plt.show()"
   ]
  },
  {
   "cell_type": "markdown",
   "metadata": {},
   "source": [
    "# Here's all the data and how it's classified, now go make some graphs"
   ]
  },
  {
   "cell_type": "markdown",
   "metadata": {},
   "source": [
    "## PREFIXES\n",
    "Cuts on data names\n",
    "\n",
    "####\n",
    "gaia_ - no cut\n",
    "####\n",
    "sig_ - sigma cut\n",
    "####\n",
    "mag_sig_ - magnitude and sigma cuts\n",
    "####\n",
    "sigbranch_ - magnitude, sigma, and branch cuts\n",
    "####\n",
    "ax_sigbranch_ - magnitude, sigma, branch, and semimajor axis cuts"
   ]
  },
  {
   "cell_type": "markdown",
   "metadata": {},
   "source": [
    "## Types of data\n",
    "\n",
    "###\n",
    "ra\n",
    "###\n",
    "ra_error\n",
    "###\n",
    "dec\n",
    "###\n",
    "dec_error\n",
    "###\n",
    "pmra\n",
    "###\n",
    "pmdec\n",
    "###\n",
    "pmra_error\n",
    "###\n",
    "pmdec_error\n",
    "###\n",
    "gminr\n",
    "###\n",
    "gmag\n",
    "###\n",
    "bminr\n",
    "###\n",
    "bmag\n",
    "###\n",
    "rmag\n",
    "###\n",
    "bming\n",
    "###\n",
    "rv\n",
    "###\n",
    "rv_err\n",
    "###\n",
    "del_x\n",
    "###\n",
    "del_y\n",
    "\n",
    "\n",
    "\n",
    "## NO PREFIX - These all came after the sigma, magnitude, branch, and semimajor axis cuts\n",
    "###\n",
    "rotated_ra\n",
    "###\n",
    "rotated_dec\n",
    "###\n",
    "ellipsearealist"
   ]
  },
  {
   "cell_type": "markdown",
   "metadata": {},
   "source": [
    "## GRAPHS"
   ]
  },
  {
   "cell_type": "code",
   "execution_count": 23,
   "metadata": {},
   "outputs": [
    {
     "data": {
      "text/plain": [
       "'\\nplt.scatter(x,y,s=1,c=\"blue\")\\n\\nplt.grid(True)\\n\\n# plt.plot(x,y,\"-o\",linewidth=1,c=\"blue\") if you want to plot a line diagram\\n\\nplt.xlabel(\"X-Label\")\\nplt.ylabel(\"Y-Label\")\\n\\nplt.xlim(lowerlim,upperlim)\\nplt.ylim(lowerlim,upperlim)\\n\\n# plt.loglog() for a log log graph, uncomment this and comment in xlim and ylim\\n\\n# plt.ylim(plt.ylim()[::-1]) to reverse axes, uncomment this\\n# plt.xlim(plt.xlim()[::-1]) to reverse axes, uncomment this\\n\\nplt.title(\"Title\")\\n\\nplt.gca().set_aspect(\\'equal\\', adjustable=\\'box\\')\\n\\nplt.savefig(\"filename.png\",dpi=300)\\n\\nplt.show()\\n'"
      ]
     },
     "execution_count": 23,
     "metadata": {},
     "output_type": "execute_result"
    }
   ],
   "source": [
    "# scatter plot template\n",
    "'''\n",
    "plt.scatter(x,y,s=1,c=\"blue\")\n",
    "\n",
    "plt.grid(True)\n",
    "\n",
    "# plt.plot(x,y,\"-o\",linewidth=1,c=\"blue\") if you want to plot a line diagram\n",
    "\n",
    "plt.xlabel(\"X-Label\")\n",
    "plt.ylabel(\"Y-Label\")\n",
    "\n",
    "plt.xlim(lowerlim,upperlim)\n",
    "plt.ylim(lowerlim,upperlim)\n",
    "\n",
    "# plt.loglog() for a log log graph, uncomment this and comment in xlim and ylim\n",
    "\n",
    "# plt.ylim(plt.ylim()[::-1]) to reverse axes, uncomment this\n",
    "# plt.xlim(plt.xlim()[::-1]) to reverse axes, uncomment this\n",
    "\n",
    "plt.title(\"Title\")\n",
    "\n",
    "plt.gca().set_aspect('equal', adjustable='box')\n",
    "\n",
    "plt.savefig(\"filename.png\",dpi=300)\n",
    "\n",
    "plt.show()\n",
    "'''"
   ]
  },
  {
   "cell_type": "code",
   "execution_count": 24,
   "metadata": {},
   "outputs": [
    {
     "data": {
      "text/plain": [
       "'\\nplt.scatter(x,y,s=1,c=\"blue\")\\nplt.errorbar(x,y,xerr,yerr,linestyle=\"none\",capsize=1,capthick=1,elinewidth=1,c=\"blue\")\\n\\nplt.grid(True)\\n\\n# plt.plot(x,y,\"-o\",linewidth=1,c=\"blue\") if you want to plot a line diagram\\n\\nplt.xlabel(\"X-Label\")\\nplt.ylabel(\"Y-Label\")\\n\\nplt.xlim(lowerlim,upperlim)\\nplt.ylim(lowerlim,upperlim)\\n\\n# plt.loglog() for a log log graph, uncomment this and comment in xlim and ylim\\n\\n# plt.ylim(plt.ylim()[::-1]) to reverse axes, uncomment this\\n# plt.xlim(plt.xlim()[::-1]) to reverse axes, uncomment this\\n\\nplt.title(\"Title\")\\n\\nplt.gca().set_aspect(\\'equal\\', adjustable=\\'box\\')\\n\\nplt.savefig(\"filename.png\",dpi=300)\\n\\nplt.show()\\n'"
      ]
     },
     "execution_count": 24,
     "metadata": {},
     "output_type": "execute_result"
    }
   ],
   "source": [
    "# scatter plot with error bars template\n",
    "\n",
    "'''\n",
    "plt.scatter(x,y,s=1,c=\"blue\")\n",
    "plt.errorbar(x,y,xerr,yerr,linestyle=\"none\",capsize=1,capthick=1,elinewidth=1,c=\"blue\")\n",
    "\n",
    "plt.grid(True)\n",
    "\n",
    "# plt.plot(x,y,\"-o\",linewidth=1,c=\"blue\") if you want to plot a line diagram\n",
    "\n",
    "plt.xlabel(\"X-Label\")\n",
    "plt.ylabel(\"Y-Label\")\n",
    "\n",
    "plt.xlim(lowerlim,upperlim)\n",
    "plt.ylim(lowerlim,upperlim)\n",
    "\n",
    "# plt.loglog() for a log log graph, uncomment this and comment in xlim and ylim\n",
    "\n",
    "# plt.ylim(plt.ylim()[::-1]) to reverse axes, uncomment this\n",
    "# plt.xlim(plt.xlim()[::-1]) to reverse axes, uncomment this\n",
    "\n",
    "plt.title(\"Title\")\n",
    "\n",
    "plt.gca().set_aspect('equal', adjustable='box')\n",
    "\n",
    "plt.savefig(\"filename.png\",dpi=300)\n",
    "\n",
    "plt.show()\n",
    "'''"
   ]
  },
  {
   "cell_type": "code",
   "execution_count": 25,
   "metadata": {},
   "outputs": [
    {
     "data": {
      "text/plain": [
       "'\\nplt.hist(semimajoraxis_size_list,bins=binnum,color=\"blue\")\\n\\nplt.xlabel(\"X-Label\")\\nplt.ylabel(\"Y-Label\")\\nplt.title(\"Title\")\\n\\nplt.gca().set_aspect(\\'equal\\', adjustable=\\'box\\')\\n\\nplt.savefig(\"filename.png\",dpi=300)\\n\\nplt.show()\\n'"
      ]
     },
     "execution_count": 25,
     "metadata": {},
     "output_type": "execute_result"
    }
   ],
   "source": [
    "# histogram template\n",
    "'''\n",
    "plt.hist(semimajoraxis_size_list,bins=binnum,color=\"blue\")\n",
    "\n",
    "plt.xlabel(\"X-Label\")\n",
    "plt.ylabel(\"Y-Label\")\n",
    "plt.title(\"Title\")\n",
    "\n",
    "plt.gca().set_aspect('equal', adjustable='box')\n",
    "\n",
    "plt.savefig(\"filename.png\",dpi=300)\n",
    "\n",
    "plt.show()\n",
    "'''"
   ]
  },
  {
   "cell_type": "code",
   "execution_count": 26,
   "metadata": {},
   "outputs": [
    {
     "data": {
      "text/plain": [
       "'\\n\\nsns.set_style(\"white\")\\nkdeplot_raVSdec=sns.kdeplot(x, y,bw=binwidth,kernel=\"gau\")\\n\\nradecbin=kdeplot_raVSdec.get_figure()\\n\\nplt.xlabel(\"X-Label\")\\nplt.ylabel(\"Y-Label\")\\nplt.title(\"Title\")\\n\\nplt.gca().set_aspect(\\'equal\\', adjustable=\\'box\\')\\n\\nplt.grid(True)\\n\\nplt.show()\\n\\nradecbin.savefig(\"filename.png\",dpi=300)\\n\\n'"
      ]
     },
     "execution_count": 26,
     "metadata": {},
     "output_type": "execute_result"
    }
   ],
   "source": [
    "# contour plot template\n",
    "'''\n",
    "\n",
    "sns.set_style(\"white\")\n",
    "kdeplot_raVSdec=sns.kdeplot(x, y,bw=binwidth,kernel=\"gau\")\n",
    "\n",
    "radecbin=kdeplot_raVSdec.get_figure()\n",
    "\n",
    "plt.xlabel(\"X-Label\")\n",
    "plt.ylabel(\"Y-Label\")\n",
    "plt.title(\"Title\")\n",
    "\n",
    "plt.gca().set_aspect('equal', adjustable='box')\n",
    "\n",
    "plt.grid(True)\n",
    "\n",
    "plt.show()\n",
    "\n",
    "radecbin.savefig(\"filename.png\",dpi=300)\n",
    "\n",
    "'''"
   ]
  },
  {
   "cell_type": "code",
   "execution_count": 27,
   "metadata": {},
   "outputs": [],
   "source": [
    "# record all the numbers being used (maglimit, sigma cut, radius of survey, region of the sky, background density and uncertainty)"
   ]
  },
  {
   "cell_type": "code",
   "execution_count": null,
   "metadata": {},
   "outputs": [],
   "source": []
  }
 ],
 "metadata": {
  "kernelspec": {
   "display_name": "Python 3",
   "language": "python",
   "name": "python3"
  },
  "language_info": {
   "codemirror_mode": {
    "name": "ipython",
    "version": 3
   },
   "file_extension": ".py",
   "mimetype": "text/x-python",
   "name": "python",
   "nbconvert_exporter": "python",
   "pygments_lexer": "ipython3",
   "version": "3.6.4"
  }
 },
 "nbformat": 4,
 "nbformat_minor": 2
}
